{
  "nbformat": 4,
  "nbformat_minor": 0,
  "metadata": {
    "colab": {
      "name": "QUIZ1ML.ipynb",
      "provenance": [],
      "authorship_tag": "ABX9TyOPEjrZQFfcrLXcw0eUon5j",
      "include_colab_link": true
    },
    "kernelspec": {
      "name": "python3",
      "display_name": "Python 3"
    }
  },
  "cells": [
    {
      "cell_type": "markdown",
      "metadata": {
        "id": "view-in-github",
        "colab_type": "text"
      },
      "source": [
        "<a href=\"https://colab.research.google.com/github/abhishekkshk68/Applied-Machine_Learning/blob/master/QUIZ1ML.ipynb\" target=\"_parent\"><img src=\"https://colab.research.google.com/assets/colab-badge.svg\" alt=\"Open In Colab\"/></a>"
      ]
    },
    {
      "cell_type": "code",
      "metadata": {
        "id": "NrpZ0PJd1qME",
        "colab_type": "code",
        "colab": {}
      },
      "source": [
        "import matplotlib.pyplot as abhi\n",
        "\n",
        "Saving=[]\n",
        "expense=[]\n",
        "Salary=[]\n",
        "for x in range(0,3):\n",
        "      Sal=int(input(\"Please enter your salary Sir! You are candidate number {}\".format(x+1)))\n",
        "      Exp=int(input(\"Please enter your expense Sir! You are candidate number {}\".format(x+1)))\n",
        "      Sav=Sal-Exp\n",
        "      Saving.append(Sav)\n",
        "      expense.append(Exp)\n",
        "      Salary.append(Sal)\n",
        "\n",
        "\n",
        "\n",
        "abhi.plot(expense,Salary)\n",
        "abhi.plot(Saving, expense)\n",
        "abhi.xlabel(\"Expense\")\n",
        "abhi.ylabel(\"Money\")\n",
        "\n",
        "abhi.show()\n"
      ],
      "execution_count": 0,
      "outputs": []
    },
    {
      "cell_type": "code",
      "metadata": {
        "id": "lkpmf3AN2_9n",
        "colab_type": "code",
        "colab": {}
      },
      "source": [
        "5000"
      ],
      "execution_count": 0,
      "outputs": []
    }
  ]
}