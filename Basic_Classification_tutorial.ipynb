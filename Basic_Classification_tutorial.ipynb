{
  "nbformat": 4,
  "nbformat_minor": 0,
  "metadata": {
    "colab": {
      "name": "Basic_Classification_tutorial",
      "provenance": [],
      "authorship_tag": "ABX9TyO6PG2b6tfv7TX0zr53N7dC",
      "include_colab_link": true
    },
    "kernelspec": {
      "name": "python3",
      "display_name": "Python 3"
    }
  },
  "cells": [
    {
      "cell_type": "markdown",
      "metadata": {
        "id": "view-in-github",
        "colab_type": "text"
      },
      "source": [
        "<a href=\"https://colab.research.google.com/github/abhishekkshk68/Applied-Machine_Learning/blob/master/Basic_Classification_tutorial.ipynb\" target=\"_parent\"><img src=\"https://colab.research.google.com/assets/colab-badge.svg\" alt=\"Open In Colab\"/></a>"
      ]
    },
    {
      "cell_type": "code",
      "metadata": {
        "id": "H8rXJWt1rCBt",
        "colab_type": "code",
        "colab": {}
      },
      "source": [
        "'''Step 1 \n",
        "1) Classification (Step 3)\n",
        "2) Accuracy (Evaluation Step 5)\n",
        "3) Called the inbulit data set in Sklearn (Step 2)\n",
        "4) Step 2 Pandas to read file \n",
        "5) step 2 model selection breaking down set (70 30)  \n",
        "\n",
        "#Code is written by Abhishek Kaushik for the Educational purpose \n",
        "'''\n",
        "\n",
        "from sklearn.tree import DecisionTreeClassifier\n",
        "from sklearn.metrics import accuracy_score\n",
        "import pandas as pd \n",
        "from sklearn.model_selection import train_test_split\n"
      ],
      "execution_count": 72,
      "outputs": []
    },
    {
      "cell_type": "markdown",
      "metadata": {
        "id": "w39osihb2Cz8",
        "colab_type": "text"
      },
      "source": [
        "<H1> Step 2 Defining your data set </H1>"
      ]
    },
    {
      "cell_type": "code",
      "metadata": {
        "id": "LuRIz_wNO3Dj",
        "colab_type": "code",
        "colab": {}
      },
      "source": [
        ""
      ],
      "execution_count": 72,
      "outputs": []
    },
    {
      "cell_type": "code",
      "metadata": {
        "id": "PBeQvKImrt44",
        "colab_type": "code",
        "colab": {
          "base_uri": "https://localhost:8080/",
          "height": 198
        },
        "outputId": "deb4cad4-e299-48e2-f61e-b8c7f2a37f5c"
      },
      "source": [
        "col_names=['preg','plas','pres','skin','test','mass','pedi','age','class']\n",
        "dataset = pd.read_csv('data.csv', names=col_names)\n",
        "\n",
        "\n",
        "\n",
        "dataset.head()\n",
        "\n"
      ],
      "execution_count": 73,
      "outputs": [
        {
          "output_type": "execute_result",
          "data": {
            "text/html": [
              "<div>\n",
              "<style scoped>\n",
              "    .dataframe tbody tr th:only-of-type {\n",
              "        vertical-align: middle;\n",
              "    }\n",
              "\n",
              "    .dataframe tbody tr th {\n",
              "        vertical-align: top;\n",
              "    }\n",
              "\n",
              "    .dataframe thead th {\n",
              "        text-align: right;\n",
              "    }\n",
              "</style>\n",
              "<table border=\"1\" class=\"dataframe\">\n",
              "  <thead>\n",
              "    <tr style=\"text-align: right;\">\n",
              "      <th></th>\n",
              "      <th>preg</th>\n",
              "      <th>plas</th>\n",
              "      <th>pres</th>\n",
              "      <th>skin</th>\n",
              "      <th>test</th>\n",
              "      <th>mass</th>\n",
              "      <th>pedi</th>\n",
              "      <th>age</th>\n",
              "      <th>class</th>\n",
              "    </tr>\n",
              "  </thead>\n",
              "  <tbody>\n",
              "    <tr>\n",
              "      <th>0</th>\n",
              "      <td>6</td>\n",
              "      <td>148</td>\n",
              "      <td>72</td>\n",
              "      <td>35</td>\n",
              "      <td>0</td>\n",
              "      <td>33.6</td>\n",
              "      <td>0.627</td>\n",
              "      <td>50</td>\n",
              "      <td>1</td>\n",
              "    </tr>\n",
              "    <tr>\n",
              "      <th>1</th>\n",
              "      <td>1</td>\n",
              "      <td>85</td>\n",
              "      <td>66</td>\n",
              "      <td>29</td>\n",
              "      <td>0</td>\n",
              "      <td>26.6</td>\n",
              "      <td>0.351</td>\n",
              "      <td>31</td>\n",
              "      <td>0</td>\n",
              "    </tr>\n",
              "    <tr>\n",
              "      <th>2</th>\n",
              "      <td>8</td>\n",
              "      <td>183</td>\n",
              "      <td>64</td>\n",
              "      <td>0</td>\n",
              "      <td>0</td>\n",
              "      <td>23.3</td>\n",
              "      <td>0.672</td>\n",
              "      <td>32</td>\n",
              "      <td>1</td>\n",
              "    </tr>\n",
              "    <tr>\n",
              "      <th>3</th>\n",
              "      <td>1</td>\n",
              "      <td>89</td>\n",
              "      <td>66</td>\n",
              "      <td>23</td>\n",
              "      <td>94</td>\n",
              "      <td>28.1</td>\n",
              "      <td>0.167</td>\n",
              "      <td>21</td>\n",
              "      <td>0</td>\n",
              "    </tr>\n",
              "    <tr>\n",
              "      <th>4</th>\n",
              "      <td>0</td>\n",
              "      <td>137</td>\n",
              "      <td>40</td>\n",
              "      <td>35</td>\n",
              "      <td>168</td>\n",
              "      <td>43.1</td>\n",
              "      <td>2.288</td>\n",
              "      <td>33</td>\n",
              "      <td>1</td>\n",
              "    </tr>\n",
              "  </tbody>\n",
              "</table>\n",
              "</div>"
            ],
            "text/plain": [
              "   preg  plas  pres  skin  test  mass   pedi  age  class\n",
              "0     6   148    72    35     0  33.6  0.627   50      1\n",
              "1     1    85    66    29     0  26.6  0.351   31      0\n",
              "2     8   183    64     0     0  23.3  0.672   32      1\n",
              "3     1    89    66    23    94  28.1  0.167   21      0\n",
              "4     0   137    40    35   168  43.1  2.288   33      1"
            ]
          },
          "metadata": {
            "tags": []
          },
          "execution_count": 73
        }
      ]
    },
    {
      "cell_type": "code",
      "metadata": {
        "id": "phHAWW2VsSjt",
        "colab_type": "code",
        "colab": {}
      },
      "source": [
        "#Pandas \n",
        "\n",
        "Features=dataset.values[:,0:8]\n",
        "Labels=dataset.values[:,8]\n",
        "TrainFea,TestFeau,Trainlabel,Testlabel=train_test_split(Features,Labels,test_size=0.20,random_state=15)\n",
        "RTrainFea,RTestFeau,RTrainlabel,RTestlabel=train_test_split(Features,Labels,test_size=0.30,random_state=30)\n"
      ],
      "execution_count": 85,
      "outputs": []
    },
    {
      "cell_type": "markdown",
      "metadata": {
        "id": "dj-wFSHB84b7",
        "colab_type": "text"
      },
      "source": [
        "<H1> Fitting the modal </H>"
      ]
    },
    {
      "cell_type": "code",
      "metadata": {
        "id": "mMp1OknA8UwA",
        "colab_type": "code",
        "colab": {
          "base_uri": "https://localhost:8080/",
          "height": 126
        },
        "outputId": "758ee167-0c52-40f6-aeda-042c71e6da0e"
      },
      "source": [
        "obj=DecisionTreeClassifier()\n",
        "obj2=DecisionTreeClassifier()\n",
        "obj.fit(TrainFea,Trainlabel)\n",
        "obj2.fit(RTrainFea,RTrainlabel)"
      ],
      "execution_count": 86,
      "outputs": [
        {
          "output_type": "execute_result",
          "data": {
            "text/plain": [
              "DecisionTreeClassifier(ccp_alpha=0.0, class_weight=None, criterion='gini',\n",
              "                       max_depth=None, max_features=None, max_leaf_nodes=None,\n",
              "                       min_impurity_decrease=0.0, min_impurity_split=None,\n",
              "                       min_samples_leaf=1, min_samples_split=2,\n",
              "                       min_weight_fraction_leaf=0.0, presort='deprecated',\n",
              "                       random_state=None, splitter='best')"
            ]
          },
          "metadata": {
            "tags": []
          },
          "execution_count": 86
        }
      ]
    },
    {
      "cell_type": "markdown",
      "metadata": {
        "id": "1FaWmt3K9eUT",
        "colab_type": "text"
      },
      "source": [
        "<H1> Prediction </H1>\n",
        "\n",
        "```\n",
        "# This is formatted as code\n",
        "```\n",
        "\n"
      ]
    },
    {
      "cell_type": "code",
      "metadata": {
        "id": "tsvMIgPk8vFz",
        "colab_type": "code",
        "colab": {}
      },
      "source": [
        "results=obj.predict(TestFeau)\n",
        "resultsR=obj2.predict(RTestFeau)"
      ],
      "execution_count": 87,
      "outputs": []
    },
    {
      "cell_type": "markdown",
      "metadata": {
        "id": "RhvEUTg3_gNE",
        "colab_type": "text"
      },
      "source": [
        "<h1> Step5 Evaluating  your modal</h1>"
      ]
    },
    {
      "cell_type": "code",
      "metadata": {
        "id": "UfcExcsE9uXO",
        "colab_type": "code",
        "colab": {}
      },
      "source": [
        "#abhi.scatter(testf,testl)\n",
        "acc=accuracy_score(Testlabel,results)\n",
        "accR=accuracy_score(RTestlabel,resultsR)"
      ],
      "execution_count": 88,
      "outputs": []
    },
    {
      "cell_type": "code",
      "metadata": {
        "id": "HQ5G5sBO-aZ1",
        "colab_type": "code",
        "colab": {
          "base_uri": "https://localhost:8080/",
          "height": 54
        },
        "outputId": "afd8a0ed-c023-4c73-f0d5-2897ee4b7bb6"
      },
      "source": [
        "print(acc*100)\n",
        "print(accR*100)\n"
      ],
      "execution_count": 89,
      "outputs": [
        {
          "output_type": "stream",
          "text": [
            "69.48051948051948\n",
            "74.02597402597402\n"
          ],
          "name": "stdout"
        }
      ]
    },
    {
      "cell_type": "code",
      "metadata": {
        "id": "5R_NNLw6_-Uz",
        "colab_type": "code",
        "colab": {}
      },
      "source": [
        ""
      ],
      "execution_count": null,
      "outputs": []
    }
  ]
}