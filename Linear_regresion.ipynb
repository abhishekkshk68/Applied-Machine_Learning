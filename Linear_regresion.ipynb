{
  "nbformat": 4,
  "nbformat_minor": 0,
  "metadata": {
    "colab": {
      "name": "Linear regresion",
      "provenance": [],
      "include_colab_link": true
    },
    "kernelspec": {
      "name": "python3",
      "display_name": "Python 3"
    }
  },
  "cells": [
    {
      "cell_type": "markdown",
      "metadata": {
        "id": "view-in-github",
        "colab_type": "text"
      },
      "source": [
        "<a href=\"https://colab.research.google.com/github/abhishekkshk68/Applied-Machine_Learning/blob/master/Linear_regresion.ipynb\" target=\"_parent\"><img src=\"https://colab.research.google.com/assets/colab-badge.svg\" alt=\"Open In Colab\"/></a>"
      ]
    },
    {
      "cell_type": "code",
      "metadata": {
        "id": "RIz7i2Jb0ot5",
        "colab_type": "code",
        "colab": {}
      },
      "source": [
        "from sklearn.linear_model import linearRegresion\n",
        "from sklearn import datasets, linear_model\n",
        "# from sklearn.metrics import meansqauared_error\n",
        "# from sklearn.datsets import load_boston\n",
        "# import pandas as pd\n",
        "# from sklearn.model_selection import train_test_split\n",
        "#Code is written by Abhishek Kaushik for the Educational purpose "
      ],
      "execution_count": null,
      "outputs": []
    },
    {
      "cell_type": "code",
      "metadata": {
        "id": "Uec8rV1D2NLc",
        "colab_type": "code",
        "colab": {}
      },
      "source": [
        "# step 2 load data set\n",
        "dataset =  load_boston\n",
        "dataset.keys()\n",
        "\n",
        "data['label'] = \n",
        "\n",
        "\n",
        "\n",
        "\n"
      ],
      "execution_count": null,
      "outputs": []
    },
    {
      "cell_type": "code",
      "metadata": {
        "id": "5xOH2jPD2vIE",
        "colab_type": "code",
        "colab": {}
      },
      "source": [
        "dataset.data\n"
      ],
      "execution_count": null,
      "outputs": []
    }
  ]
}