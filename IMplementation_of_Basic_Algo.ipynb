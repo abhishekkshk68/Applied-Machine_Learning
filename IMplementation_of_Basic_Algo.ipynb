{
  "nbformat": 4,
  "nbformat_minor": 0,
  "metadata": {
    "colab": {
      "name": "IMplementation of Basic Algo.ipynb",
      "provenance": [],
      "authorship_tag": "ABX9TyOvFTb6FJiHiZTIlu+J9Ie7",
      "include_colab_link": true
    },
    "kernelspec": {
      "name": "python3",
      "display_name": "Python 3"
    }
  },
  "cells": [
    {
      "cell_type": "markdown",
      "metadata": {
        "id": "view-in-github",
        "colab_type": "text"
      },
      "source": [
        "<a href=\"https://colab.research.google.com/github/abhishekkshk68/Applied-Machine_Learning/blob/master/IMplementation_of_Basic_Algo.ipynb\" target=\"_parent\"><img src=\"https://colab.research.google.com/assets/colab-badge.svg\" alt=\"Open In Colab\"/></a>"
      ]
    },
    {
      "cell_type": "code",
      "metadata": {
        "id": "HJohI3a3PfdI",
        "colab_type": "code",
        "colab": {}
      },
      "source": [
        "# Calling a class\n",
        "#from sklearn.tree import DecisionTreeClassifier\n",
        "from sklearn.neighbors import KNeighborsClassifier\n",
        "#Evaluation your modal \n",
        "from sklearn.metrics import accuracy_score"
      ],
      "execution_count": 10,
      "outputs": []
    },
    {
      "cell_type": "code",
      "metadata": {
        "id": "45duGGd3QC7V",
        "colab_type": "code",
        "colab": {}
      },
      "source": [
        "#Define the data \n",
        "Train_feature =[[3,4],\n",
        "                [7,8],\n",
        "                [9,7]]\n",
        "\n",
        "Train_label=[[1],[0],[1]]\n",
        "\n",
        "\n",
        "Test_features=[[2,7],\n",
        "               [4,5]]\n",
        "\n",
        "Test_label=[[1],\n",
        "            [1]]\n",
        "            \n",
        "                           "
      ],
      "execution_count": 11,
      "outputs": []
    },
    {
      "cell_type": "code",
      "metadata": {
        "id": "PObX8ILTQxTY",
        "colab_type": "code",
        "colab": {
          "base_uri": "https://localhost:8080/",
          "height": 128
        },
        "outputId": "75f09ed9-2251-4d0a-e715-be65fa958bbe"
      },
      "source": [
        "#training or fitting the modal\n",
        "obj=KNeighborsClassifier(2)\n",
        "obj.fit(Train_feature,Train_label)"
      ],
      "execution_count": 12,
      "outputs": [
        {
          "output_type": "stream",
          "text": [
            "/usr/local/lib/python3.6/dist-packages/ipykernel_launcher.py:3: DataConversionWarning: A column-vector y was passed when a 1d array was expected. Please change the shape of y to (n_samples, ), for example using ravel().\n",
            "  This is separate from the ipykernel package so we can avoid doing imports until\n"
          ],
          "name": "stderr"
        },
        {
          "output_type": "execute_result",
          "data": {
            "text/plain": [
              "KNeighborsClassifier(algorithm='auto', leaf_size=30, metric='minkowski',\n",
              "                     metric_params=None, n_jobs=None, n_neighbors=2, p=2,\n",
              "                     weights='uniform')"
            ]
          },
          "metadata": {
            "tags": []
          },
          "execution_count": 12
        }
      ]
    },
    {
      "cell_type": "code",
      "metadata": {
        "id": "godD08kjRdaJ",
        "colab_type": "code",
        "colab": {}
      },
      "source": [
        "#predictions \n",
        "results=obj.predict(Test_features)"
      ],
      "execution_count": 13,
      "outputs": []
    },
    {
      "cell_type": "code",
      "metadata": {
        "id": "ByGbbXi_R3so",
        "colab_type": "code",
        "colab": {
          "base_uri": "https://localhost:8080/",
          "height": 35
        },
        "outputId": "ebdb28f8-1d6b-4a82-ad48-2accfda30ab7"
      },
      "source": [
        "print(results)"
      ],
      "execution_count": 14,
      "outputs": [
        {
          "output_type": "stream",
          "text": [
            "[0 0]\n"
          ],
          "name": "stdout"
        }
      ]
    },
    {
      "cell_type": "code",
      "metadata": {
        "id": "96FHP3zhR50K",
        "colab_type": "code",
        "colab": {
          "base_uri": "https://localhost:8080/",
          "height": 35
        },
        "outputId": "c3c5dd79-a08b-4784-d244-6248f416c3a4"
      },
      "source": [
        "#Evaluation \n",
        "accu=accuracy_score(Test_label,results)\n",
        "print(accu)"
      ],
      "execution_count": 15,
      "outputs": [
        {
          "output_type": "stream",
          "text": [
            "0.0\n"
          ],
          "name": "stdout"
        }
      ]
    },
    {
      "cell_type": "code",
      "metadata": {
        "id": "IkAwO__ZSJsK",
        "colab_type": "code",
        "colab": {}
      },
      "source": [
        ""
      ],
      "execution_count": null,
      "outputs": []
    }
  ]
}