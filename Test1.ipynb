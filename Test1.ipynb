{
  "nbformat": 4,
  "nbformat_minor": 0,
  "metadata": {
    "colab": {
      "name": "Test1.ipynb",
      "provenance": [],
      "authorship_tag": "ABX9TyMQM9UOeTJKOyDomPJNB0Pg",
      "include_colab_link": true
    },
    "kernelspec": {
      "name": "python3",
      "display_name": "Python 3"
    }
  },
  "cells": [
    {
      "cell_type": "markdown",
      "metadata": {
        "id": "view-in-github",
        "colab_type": "text"
      },
      "source": [
        "<a href=\"https://colab.research.google.com/github/abhishekkshk68/Applied-Machine_Learning/blob/master/Test1.ipynb\" target=\"_parent\"><img src=\"https://colab.research.google.com/assets/colab-badge.svg\" alt=\"Open In Colab\"/></a>"
      ]
    },
    {
      "cell_type": "markdown",
      "metadata": {
        "id": "JxzCEU2NWQD4",
        "colab_type": "text"
      },
      "source": [
        "<h1> Questions </H1>\n",
        "\n",
        "\n",
        "\n",
        "![FUN](data:image/jpeg;base64,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)\n",
        "<H2> Please Answer any 10 questions </h2> \n",
        "\n",
        "<ol>\n",
        "\n",
        "---\n",
        "<H3> 50-60 words : Write what you understand </H3>\n",
        "\n",
        "\n",
        "---\n",
        "\n",
        "\n",
        "<li> Explain machine learning? <br> \n",
        "<li> What is the difference between tuple and list? <br>\n",
        "<li> Define labels and features? <br>\n",
        "<li> Why corelation among the variable is important? <br>\n",
        "<li> What is Gussian Distribution and why it is important? <br>\n",
        "<li> What is difference between Supervised and Unsupervised learning. <br>\n",
        "<li> What are advantage of using Parametric Modal? Give some examples.<br>\n",
        "<li> What are advantage of using Non-Parametric Modal? Give some examples.<br>\n",
        "<li> What is Root Mean Square and where it is used? <br>\n",
        "<li> What is Precision and Recall? <br>\n",
        "<li> What is training data and testing data? <br>\n",
        "<li> Explain about the workflow machine learning <br>\n",
        "<li> Please develop a program that take input of 10 people salary and Expense (using input command) and plot the line plot between Salay and saving and saving and Expense on the same Graph <br>\n",
        "<li> What are Four step principle fro Visualization?\n",
        "<li> Explain the use of boxplot in Machine Leaning \n",
        "<li> Explain the difference between deep learning and Machine learning\n",
        "\n",
        "</ol>\n"
      ]
    },
    {
      "cell_type": "code",
      "metadata": {
        "id": "_tchT9CJYN7p",
        "colab_type": "code",
        "colab": {}
      },
      "source": [
        "\n",
        "\n"
      ],
      "execution_count": 0,
      "outputs": []
    }
  ]
}