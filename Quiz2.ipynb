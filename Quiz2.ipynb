{
  "nbformat": 4,
  "nbformat_minor": 0,
  "metadata": {
    "colab": {
      "name": "Quiz2.ipynb",
      "provenance": [],
      "authorship_tag": "ABX9TyM5H/cvN1d06/0b+AT/CzCJ",
      "include_colab_link": true
    },
    "kernelspec": {
      "name": "python3",
      "display_name": "Python 3"
    }
  },
  "cells": [
    {
      "cell_type": "markdown",
      "metadata": {
        "id": "view-in-github",
        "colab_type": "text"
      },
      "source": [
        "<a href=\"https://colab.research.google.com/github/abhishekkshk68/Applied-Machine_Learning/blob/master/Quiz2.ipynb\" target=\"_parent\"><img src=\"https://colab.research.google.com/assets/colab-badge.svg\" alt=\"Open In Colab\"/></a>"
      ]
    },
    {
      "cell_type": "code",
      "metadata": {
        "id": "7DxvoPRRg6TI",
        "colab_type": "code",
        "colab": {
          "base_uri": "https://localhost:8080/",
          "height": 357
        },
        "outputId": "7bce9ce7-f795-489a-82a4-f91f26a47076"
      },
      "source": [
        "from matplotlib import pyplot \n",
        "sal=[]\n",
        "expense=[]\n",
        "for x in range (0,3):\n",
        "  salary =int(input(\"Enter your salaries\"))\n",
        "  sal.append(salary)\n",
        "  expense.append(salary-2000)\n",
        "\n",
        "\n",
        "pyplot.plot(sal,expense)\n",
        "pyplot.show()\n",
        "'''\n",
        "expenditure= list(str(input(\"Enter your expenditure\").split()))\n",
        "saving=[]\n",
        "for x,y in zip(salary,expenditure):\n",
        "  savingformulae = (int(x)-int(y))\n",
        "  saving.append(savingformulae)\n",
        "\n",
        "pyplot.plot(salary,saving)\n",
        "pyplot.show()'''"
      ],
      "execution_count": 5,
      "outputs": [
        {
          "output_type": "stream",
          "text": [
            "Enter your salaries5000\n",
            "Enter your salaries7700\n",
            "Enter your salaries3000\n"
          ],
          "name": "stdout"
        },
        {
          "output_type": "display_data",
          "data": {
            "image/png": "[encoded data removed]",
            "text/plain": [
              "<Figure size 432x288 with 1 Axes>"
            ]
          },
          "metadata": {
            "tags": [],
            "needs_background": "light"
          }
        },
        {
          "output_type": "execute_result",
          "data": {
            "text/plain": [
              "'\\nexpenditure= list(str(input(\"Enter your expenditure\").split()))\\nsaving=[]\\nfor x,y in zip(salary,expenditure):\\n  savingformulae = (int(x)-int(y))\\n  saving.append(savingformulae)\\n\\npyplot.plot(salary,saving)\\npyplot.show()'"
            ]
          },
          "metadata": {
            "tags": []
          },
          "execution_count": 5
        }
      ]
    },
    {
      "cell_type": "code",
      "metadata": {
        "id": "CGHp_cWAhBfw",
        "colab_type": "code",
        "colab": {}
      },
      "source": [
        ""
      ],
      "execution_count": 0,
      "outputs": []
    }
  ]
}