{
  "nbformat": 4,
  "nbformat_minor": 0,
  "metadata": {
    "colab": {
      "name": "Quiz2.ipynb",
      "provenance": [],
      "authorship_tag": "ABX9TyMxyac9TGA33Czry6r6O36W",
      "include_colab_link": true
    },
    "kernelspec": {
      "name": "python3",
      "display_name": "Python 3"
    }
  },
  "cells": [
    {
      "cell_type": "markdown",
      "metadata": {
        "id": "view-in-github",
        "colab_type": "text"
      },
      "source": [
        "<a href=\"https://colab.research.google.com/github/abhishekkshk68/Applied-Machine_Learning/blob/master/Quiz2.ipynb\" target=\"_parent\"><img src=\"https://colab.research.google.com/assets/colab-badge.svg\" alt=\"Open In Colab\"/></a>"
      ]
    },
    {
      "cell_type": "code",
      "metadata": {
        "id": "7DxvoPRRg6TI",
        "colab_type": "code",
        "outputId": "e0f5d05b-1bcb-486e-a954-55e72a2daa1b",
        "colab": {
          "base_uri": "https://localhost:8080/",
          "height": 357
        }
      },
      "source": [
        "from matplotlib import pyplot \n",
        "sal=[]\n",
        "expense=[]\n",
        "saving =[]\n",
        "for x in range (0,3):\n",
        "  salary =int(input(\"Enter your salaries\"))\n",
        "  sal.append(salary)\n",
        "  expense.append(salary-2000)\n",
        "  saving.append(salary-3000)\n",
        "\n",
        "\n",
        "pyplot.plot(sal,expense,label=\"Hello\")\n",
        "pyplot.plot(saving,expense, label=\" Life\")\n",
        "\n",
        "pyplot.legend()\n",
        "pyplot.show()\n",
        "'''\n",
        "expenditure= list(str(input(\"Enter your expenditure\").split()))\n",
        "saving=[]\n",
        "for x,y in zip(salary,expenditure):\n",
        "  savingformulae = (int(x)-int(y))\n",
        "  saving.append(savingformulae)\n",
        "\n",
        "pyplot.plot(salary,saving)\n",
        "pyplot.show()'''"
      ],
      "execution_count": 4,
      "outputs": [
        {
          "output_type": "stream",
          "text": [
            "Enter your salaries5000\n",
            "Enter your salaries5600\n",
            "Enter your salaries7600\n"
          ],
          "name": "stdout"
        },
        {
          "output_type": "display_data",
          "data": {
            "image/png": "[encoded data removed]",
            "text/plain": [
              "<Figure size 432x288 with 1 Axes>"
            ]
          },
          "metadata": {
            "tags": [],
            "needs_background": "light"
          }
        },
        {
          "output_type": "execute_result",
          "data": {
            "text/plain": [
              "'\\nexpenditure= list(str(input(\"Enter your expenditure\").split()))\\nsaving=[]\\nfor x,y in zip(salary,expenditure):\\n  savingformulae = (int(x)-int(y))\\n  saving.append(savingformulae)\\n\\npyplot.plot(salary,saving)\\npyplot.show()'"
            ]
          },
          "metadata": {
            "tags": []
          },
          "execution_count": 4
        }
      ]
    },
    {
      "cell_type": "code",
      "metadata": {
        "id": "CGHp_cWAhBfw",
        "colab_type": "code",
        "colab": {}
      },
      "source": [
        ""
      ],
      "execution_count": 0,
      "outputs": []
    }
  ]
}